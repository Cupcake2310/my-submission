{
 "cells": [
  {
   "cell_type": "markdown",
   "metadata": {},
   "source": [
    "<center>\n",
    "    <img src=\"https://s3-api.us-geo.objectstorage.softlayer.net/cf-courses-data/CognitiveClass/Logos/organization_logo/organization_logo.png\" width=\"300\" alt=\"cognitiveclass.ai logo\"  />\n",
    "</center>\n"
   ]
  },
  {
   "cell_type": "markdown",
   "metadata": {},
   "source": [
    "#### Add your code below following the instructions given in the course\n"
   ]
  },
  {
   "cell_type": "markdown",
   "metadata": {},
   "source": [
    "# My Jupiter Notebook on IBM Watson Studio"
   ]
  },
  {
   "cell_type": "markdown",
   "metadata": {},
   "source": [
    " **Adedokun, Ayisat Folasade** <br/>\n",
    "I am currently a student and I would love to become an Exceptional Chip Engineer "
   ]
  },
  {
   "cell_type": "markdown",
   "metadata": {},
   "source": [
    "I am interested in Data Science to improve my software and data engineering skills; thus preparing myself for Grad School Research and adding values to my academic excellence."
   ]
  },
  {
   "cell_type": "markdown",
   "metadata": {},
   "source": [
    "### My Code Example"
   ]
  },
  {
   "cell_type": "code",
   "execution_count": 21,
   "metadata": {},
   "outputs": [
    {
     "name": "stdout",
     "output_type": "stream",
     "text": [
      "the average = 19.333333333333332\n"
     ]
    }
   ],
   "source": [
    "#average of numbers\n",
    "a = 18\n",
    "b = 16\n",
    "c = 24\n",
    "sum = (a + b + c)/3\n",
    "\n",
    "print (\"the average =\", (sum))\n",
    "\n"
   ]
  },
  {
   "cell_type": "markdown",
   "metadata": {},
   "source": [
    "----\n"
   ]
  },
  {
   "cell_type": "markdown",
   "metadata": {},
   "source": [
    "~~The line above is for horizontal rule and here is a strikethrough example~~\n",
    "<br/>\n",
    "\n",
    "\n",
    "|Fruits|numbers|colour|\n",
    "|------|:-----:|:----:|\n",
    "|Mango |4      |*green or yello*|\n",
    "|Guava |10     | green| \n",
    "\n",
    "<br/>\n",
    "\n",
    "Bulleted list:\n",
    "+ Tea  \n",
    "+ Milk\n",
    "+ Coffee\n",
    "+ Fruits\n",
    "or\n",
    "- Tea \n",
    "- Milk\n",
    "- Coffee\n",
    "- Fruits\n",
    "or\n",
    "* Tea  \n",
    "* Milk\n",
    "* Coffee\n",
    "* Fruits\n",
    "<br/>\n",
    "Numbered list:\n",
    "1. Tea\n",
    "2. Milk\n",
    "3. Coffee\n",
    "4. Fruits\n",
    "\n",
    "for links: \n",
    "[visit coursera today](www.coursera.org)\n",
    "\n",
    ">finally! here is a blockquotes."
   ]
  },
  {
   "cell_type": "markdown",
   "metadata": {},
   "source": [
    "# Thank you IBM, I am getting there"
   ]
  },
  {
   "cell_type": "code",
   "execution_count": null,
   "metadata": {},
   "outputs": [],
   "source": []
  }
 ],
 "metadata": {
  "kernelspec": {
   "display_name": "Python",
   "language": "python",
   "name": "conda-env-python-py"
  },
  "language_info": {
   "codemirror_mode": {
    "name": "ipython",
    "version": 3
   },
   "file_extension": ".py",
   "mimetype": "text/x-python",
   "name": "python",
   "nbconvert_exporter": "python",
   "pygments_lexer": "ipython3",
   "version": "3.7.12"
  }
 },
 "nbformat": 4,
 "nbformat_minor": 4
}
